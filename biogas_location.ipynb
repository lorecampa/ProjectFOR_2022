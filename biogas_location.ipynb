{
  "cells": [
    {
      "cell_type": "markdown",
      "metadata": {
        "id": "0is6zsDH2sUE"
      },
      "source": [
        "# Big project\n",
        "\n",
        "## Submission\n",
        "\n",
        "Submit solutions to https://forms.office.com/e/WexY7YraJb.\n",
        "\n",
        "1.   Upload code in .ipynb file\n",
        "2.   Upload a csv containing three columns: \n",
        "*    \"ID\": the ID of the instance (1, 2, 3, ...)\n",
        "*    \"OBJ\": the objective function value obtained\n",
        "*    \"TIME\": the execution time in seconds.\n",
        "\n",
        "## Evaluation\n",
        "\n",
        "1.   Gap w.r.t. optimal solutions\n",
        "2.   Runtimes. Must be under 10 minutes for every instance. Execution times will be re-examined on a random basis.\n",
        "\n",
        "## Deadline\n",
        "\n",
        "12/01/2022 23:59 CET\n",
        "\n",
        "## Other\n",
        "\n",
        "*   4 lab points just if you deliver something that works\n",
        "*   10 points based on the quality of method\n",
        "*   NO pre-coded libraries, \n",
        "*   NO genetic algorithms \n",
        "*   NO neural networks\n",
        "*   groups of max 3 students\n",
        "\n",
        "\n"
      ]
    },
    {
      "cell_type": "markdown",
      "metadata": {
        "id": "UdlvHj_vueO5"
      },
      "source": [
        "## Biogas plants location\n",
        "\n",
        "An association of $n$ farmers wants to open $p$ plants to produce energy from biogas. \n",
        "Each plant will be opened at a farm of a member of the association and will be powered with corn chopping purchased from the farm itself or from other neighboring farms.\n",
        "\n",
        "Each farm $i$ can provide at most $c_i$ tons of corn chopping, with a percentage of dry matter $a_i$. As you may know, dry matter is the key component of corn chopping used for biogas production. In order to maintain the quality of produced energy, each plant must burn a mixture of corn chopping with a percentage of dry matter between $k_{min}$ and $k_{max}$. \n",
        "\n",
        "At most one plant can be located in each farm, and every farm can sell its corn chopping to one and only one plant.\n",
        "\n",
        "Each farm $i$ is located at coordinates $x_i$ and $y_i$, representing respectively its latitude and longitude, and the cost of moving corn chopping from a farm $i$ to a farm $j$ is proportional to the euclidean distance between the two farms (it does not depend on the actual quantity moved, since the trucks used for this transportations are sufficiently big). \n",
        "\n",
        "Under such conditions, every plant produces $Q$ kWh of energy per ton of corn chopping burned. The energy produced by each plant will be fed into the national electricity system, at a unitary price of $b$ (€/kWh). Moreover, due to state regulations, each plant must not produce more than $M$ kWh of energy.\n",
        "\n",
        "You must locate $p$ plants among the available farms and assign the farms that will supply each plant, with the goal of maximizing the total revenues of the association."
      ]
    },
    {
      "cell_type": "markdown",
      "metadata": {
        "id": "hnxGk0C12oFZ"
      },
      "source": [
        "### Sets\n",
        "*   $I$ = set of farms\n",
        "\n",
        "### Parameters\n",
        "*   $n$ = number of farms   \n",
        "*   $p$ = number of plants to locate\n",
        "*   $b$ = revenue per unit of energy (€/kWh)\n",
        "*   $M$ = max energy production (kWh)\n",
        "*   $Q$ = energy produced by a ton of corn chopping (kWh/t)\n",
        "*   $k_{min} (k_{max})$ = min (max) percentage of dry matter for fermentation\n",
        "*   $a_i$ = percentage of dry matter in chopping from farm $i \\in I$\n",
        "*   $c_i$ = tons of corn chopping available for each $i \\in I$ (t)\n",
        "*   $x_i, y_i$ = coordinates of farm $i \\in I$"
      ]
    },
    {
      "cell_type": "code",
      "execution_count": 111,
      "metadata": {
        "colab": {
          "base_uri": "https://localhost:8080/"
        },
        "id": "z8gsaiSYIFw4",
        "outputId": "0e6afb0e-0881-4898-c8ac-9f9d71f679d7"
      },
      "outputs": [
        {
          "name": "stdout",
          "output_type": "stream",
          "text": [
            "--2022-12-20 11:36:59--  https://raw.githubusercontent.com/Daddeee/FOR_Labs_22-23/master/big-project/instances/instance_1.json\n",
            "Resolving raw.githubusercontent.com (raw.githubusercontent.com)... 185.199.111.133, 185.199.108.133, 185.199.109.133, ...\n",
            "Connecting to raw.githubusercontent.com (raw.githubusercontent.com)|185.199.111.133|:443... connected.\n",
            "HTTP request sent, awaiting response... 200 OK\n",
            "Length: 572 [text/plain]\n",
            "Saving to: './data/instance_1.json'\n",
            "\n",
            "instance_1.json     100%[===================>]     572  --.-KB/s    in 0s      \n",
            "\n",
            "2022-12-20 11:36:59 (9.41 MB/s) - './data/instance_1.json' saved [572/572]\n",
            "\n",
            "--2022-12-20 11:36:59--  https://raw.githubusercontent.com/Daddeee/FOR_Labs_22-23/master/big-project/results/instance_1.txt\n",
            "Resolving raw.githubusercontent.com (raw.githubusercontent.com)... 185.199.108.133, 185.199.109.133, 185.199.110.133, ...\n",
            "Connecting to raw.githubusercontent.com (raw.githubusercontent.com)|185.199.108.133|:443... connected.\n",
            "HTTP request sent, awaiting response... 200 OK\n",
            "Length: 18 [text/plain]\n",
            "Saving to: './data/instance_1.txt'\n",
            "\n",
            "instance_1.txt      100%[===================>]      18  --.-KB/s    in 0s      \n",
            "\n",
            "2022-12-20 11:37:00 (189 KB/s) - './data/instance_1.txt' saved [18/18]\n",
            "\n"
          ]
        }
      ],
      "source": [
        "instance_id = 1;\n",
        "baseUrl = \"https://raw.githubusercontent.com/Daddeee/FOR_Labs_22-23/master/big-project\";\n",
        "istanceUrl = f'{baseUrl}/instances/instance_{instance_id}.json';\n",
        "resultUrl = f'{baseUrl}/results/instance_{instance_id}.txt';\n",
        "dataPath = \"./data/\"\n",
        "\n",
        "!rm -rf {dataPath}\n",
        "!wget {istanceUrl} -P {dataPath}\n",
        "!wget {resultUrl} -P {dataPath}"
      ]
    },
    {
      "attachments": {},
      "cell_type": "markdown",
      "metadata": {},
      "source": [
        "### Import libraries"
      ]
    },
    {
      "cell_type": "code",
      "execution_count": 112,
      "metadata": {},
      "outputs": [],
      "source": [
        "import numpy as np\n",
        "import mip\n",
        "import json"
      ]
    },
    {
      "attachments": {},
      "cell_type": "markdown",
      "metadata": {},
      "source": [
        "### Compute distance\n",
        "Inspired by: \n",
        "https://github.com/eth-cscs/PythonHPC/blob/master/numpy/03-euclidean-distance-matrix-numpy.ipynb\n",
        "\n",
        "The \"Euclidean Trick\" math: \n",
        "https://www.robots.ox.ac.uk/~albanie/notes/Euclidean_distance_trick.pdf"
      ]
    },
    {
      "cell_type": "code",
      "execution_count": 113,
      "metadata": {},
      "outputs": [],
      "source": [
        "def fast_distance_matrix(x):\n",
        "    xy = x @ x.T\n",
        "    x2 = xy.diagonal()[:,np.newaxis]\n",
        "    return np.abs(x2 + x2.T - 2. * xy)**0.5"
      ]
    },
    {
      "attachments": {},
      "cell_type": "markdown",
      "metadata": {},
      "source": [
        "### Load instances"
      ]
    },
    {
      "cell_type": "code",
      "execution_count": 114,
      "metadata": {},
      "outputs": [],
      "source": [
        "# Reads a .json instance and returns it in a dictionary\n",
        "def load_instance(filename):\n",
        "  with open(f'./data/{filename}', 'r') as f:\n",
        "    data = json.load(f)\n",
        "  return data\n",
        "\n",
        "# Reads a .txt result and returns it\n",
        "def load_result(filename):\n",
        "  with open(f'./data/{filename}', 'r') as f:\n",
        "      result = f.read()\n",
        "  return float(result)"
      ]
    },
    {
      "attachments": {},
      "cell_type": "markdown",
      "metadata": {},
      "source": [
        "### Solver"
      ]
    },
    {
      "cell_type": "code",
      "execution_count": 115,
      "metadata": {},
      "outputs": [],
      "source": [
        "class Instance:\n",
        "    def __init__(self, instance):\n",
        "        self.M = instance[\"M\"]\n",
        "        self.Q = instance[\"Q\"]\n",
        "        self.a = np.array(instance[\"a\"])\n",
        "        self.b = instance[\"b\"]\n",
        "        self.c = instance[\"c\"]\n",
        "        self.kmax = instance[\"kmax\"]\n",
        "        self.kmin = instance[\"kmin\"]\n",
        "        self.I = range(instance[\"n\"])\n",
        "        self.p = instance[\"p\"]\n",
        "        self.points = instance[\"points\"]\n",
        "        self.distances = np.array(self.points)        "
      ]
    },
    {
      "cell_type": "code",
      "execution_count": 127,
      "metadata": {},
      "outputs": [],
      "source": [
        "class Model:\n",
        "    def __init__(self, instance:Instance):\n",
        "        self.m = mip.Model();\n",
        "        # self.setupVariables(self, instance)\n",
        "        # self.setupConstraint(self, instance)\n",
        "\n",
        "        #self.m.objective(mip.maximize(mip.xsum([mip.xsum([(self.z[i][j] * instance.Q * instance.b - self.y[i][j] * instance.distances[i][j]) for j in I]) for i in I])))\n",
        "\n",
        "    \n",
        "    def setupVariables(self, instance:Instance):\n",
        "        I = instance.I\n",
        "        self.x = [self.m.add_var(var_type = mip.INTEGER, lb= 0, ub=1) for i in I]\n",
        "        self.y = [[self.m.add_var(var_type = mip.INTEGER, lb=0, ub=1) for j in I] for i in I]\n",
        "        self.z = [[self.m.add_var(lb = 0) for j in I] for i in I]\n",
        "\n",
        "        \n",
        "\n",
        "    def setupConstraint(self, instance:Instance):\n",
        "        I = instance.I\n",
        "\n",
        "        #build p plants\n",
        "        self.m.add_constr(mip.xsum([self.x[i] for i in I] == instance.p))\n",
        "        \n",
        "        #each farm can be assigned to at most one farm\n",
        "        for j in I:\n",
        "            self.m.add_constr(mip.xsum([self.y[i][j] for i in I] <= 1))\n",
        "\n",
        "        #each farm can at most give c_i corn choppings, linking constraint\n",
        "        for i in I:\n",
        "            for j in I:\n",
        "                self.m.add_constr(self.z[i][j] <= instance.c[j] * self.y[i][j])\n",
        "\n",
        "        # dry mattern percentage\n",
        "        for i in I:\n",
        "            chorn_choppings_aquired = mip.xsum([self.z[i][j] for j in I])\n",
        "            self.m.add_constr(mip.xsum([self.z[i][j] * instance.a[j] for j in I] <= instance.kmax * chorn_choppings_aquired))\n",
        "            self.m.add_constr(mip.xsum([self.z[i][j] * instance.a[j] for j in I] >= instance.kmin * chorn_choppings_aquired))\n",
        "\n",
        "        # state regulations\n",
        "        for i in I:\n",
        "            self.m.add_constr(mip.xsum([self.z[i][j] for j in I] * instance.Q <= instance.M))\n",
        "\n"
      ]
    },
    {
      "cell_type": "code",
      "execution_count": 128,
      "metadata": {
        "colab": {
          "base_uri": "https://localhost:8080/"
        },
        "id": "_KMiMx9LIpfI",
        "outputId": "3a0e86b3-6476-4e9d-e51b-0983b0445875"
      },
      "outputs": [
        {
          "name": "stderr",
          "output_type": "stream",
          "text": [
            "An error occurred while loading the CBC library:\t cannot load library '/Users/lorecampa/Desktop/ProjectFOR/.venv/lib/python3.10/site-packages/mip/libraries/cbc-c-darwin-x86-64.dylib': dlopen(/Users/lorecampa/Desktop/ProjectFOR/.venv/lib/python3.10/site-packages/mip/libraries/cbc-c-darwin-x86-64.dylib, 0x0002): tried: '/Users/lorecampa/Desktop/ProjectFOR/.venv/lib/python3.10/site-packages/mip/libraries/cbc-c-darwin-x86-64.dylib' (mach-o file, but is an incompatible architecture (have 'x86_64', need 'arm64')), '/System/Volumes/Preboot/Cryptexes/OS/Users/lorecampa/Desktop/ProjectFOR/.venv/lib/python3.10/site-packages/mip/libraries/cbc-c-darwin-x86-64.dylib' (no such file), '/Users/lorecampa/Desktop/ProjectFOR/.venv/lib/python3.10/site-packages/mip/libraries/cbc-c-darwin-x86-64.dylib' (mach-o file, but is an incompatible architecture (have 'x86_64', need 'arm64')).  Additionally, ctypes.util.find_library() did not manage to locate a library called '/Users/lorecampa/Desktop/ProjectFOR/.venv/lib/python3.10/site-packages/mip/libraries/cbc-c-darwin-x86-64.dylib'\n",
            "\n"
          ]
        },
        {
          "ename": "NameError",
          "evalue": "name 'cbclib' is not defined",
          "output_type": "error",
          "traceback": [
            "\u001b[0;31m---------------------------------------------------------------------------\u001b[0m",
            "\u001b[0;31mNameError\u001b[0m                                 Traceback (most recent call last)",
            "Cell \u001b[0;32mIn[128], line 11\u001b[0m\n\u001b[1;32m      8\u001b[0m inst \u001b[39m=\u001b[39m load_instance(\u001b[39mf\u001b[39m\u001b[39m'\u001b[39m\u001b[39minstance_\u001b[39m\u001b[39m{\u001b[39;00minstance_id\u001b[39m}\u001b[39;00m\u001b[39m.json\u001b[39m\u001b[39m'\u001b[39m)\n\u001b[1;32m      9\u001b[0m res \u001b[39m=\u001b[39m load_result(\u001b[39mf\u001b[39m\u001b[39m'\u001b[39m\u001b[39minstance_\u001b[39m\u001b[39m{\u001b[39;00minstance_id\u001b[39m}\u001b[39;00m\u001b[39m.txt\u001b[39m\u001b[39m'\u001b[39m)\n\u001b[0;32m---> 11\u001b[0m obj \u001b[39m=\u001b[39m solve(inst)\n\u001b[1;32m     13\u001b[0m gap \u001b[39m=\u001b[39m \u001b[39m100\u001b[39m \u001b[39m*\u001b[39m (obj \u001b[39m-\u001b[39m res) \u001b[39m/\u001b[39m res\n\u001b[1;32m     15\u001b[0m \u001b[39mprint\u001b[39m(\u001b[39m\"\u001b[39m\u001b[39mresult: \u001b[39m\u001b[39m{}\u001b[39;00m\u001b[39m\"\u001b[39m\u001b[39m.\u001b[39mformat(obj))\n",
            "Cell \u001b[0;32mIn[128], line 2\u001b[0m, in \u001b[0;36msolve\u001b[0;34m(inst)\u001b[0m\n\u001b[1;32m      1\u001b[0m \u001b[39mdef\u001b[39;00m \u001b[39msolve\u001b[39m(inst):\n\u001b[0;32m----> 2\u001b[0m     model \u001b[39m=\u001b[39m Model(inst)\n\u001b[1;32m      4\u001b[0m     \u001b[39m#print(model.m.optimize())\u001b[39;00m\n\u001b[1;32m      5\u001b[0m     \u001b[39mreturn\u001b[39;00m \u001b[39m1324477.6736137536\u001b[39m\n",
            "Cell \u001b[0;32mIn[127], line 3\u001b[0m, in \u001b[0;36mModel.__init__\u001b[0;34m(self, instance)\u001b[0m\n\u001b[1;32m      2\u001b[0m \u001b[39mdef\u001b[39;00m \u001b[39m__init__\u001b[39m(\u001b[39mself\u001b[39m, instance:Instance):\n\u001b[0;32m----> 3\u001b[0m     \u001b[39mself\u001b[39m\u001b[39m.\u001b[39mm \u001b[39m=\u001b[39m mip\u001b[39m.\u001b[39;49mModel()\n",
            "File \u001b[0;32m~/Desktop/ProjectFOR/.venv/lib/python3.10/site-packages/mip/model.py:98\u001b[0m, in \u001b[0;36mModel.__init__\u001b[0;34m(self, name, sense, solver_name, solver)\u001b[0m\n\u001b[1;32m     96\u001b[0m     \u001b[39mself\u001b[39m\u001b[39m.\u001b[39msolver_name \u001b[39m=\u001b[39m mip\u001b[39m.\u001b[39mGUROBI\n\u001b[1;32m     97\u001b[0m \u001b[39melse\u001b[39;00m:\n\u001b[0;32m---> 98\u001b[0m     \u001b[39mimport\u001b[39;00m \u001b[39mmip\u001b[39;00m\u001b[39m.\u001b[39;00m\u001b[39mcbc\u001b[39;00m\n\u001b[1;32m    100\u001b[0m     \u001b[39mself\u001b[39m\u001b[39m.\u001b[39msolver \u001b[39m=\u001b[39m mip\u001b[39m.\u001b[39mcbc\u001b[39m.\u001b[39mSolverCbc(\u001b[39mself\u001b[39m, name, sense)\n\u001b[1;32m    101\u001b[0m     \u001b[39mself\u001b[39m\u001b[39m.\u001b[39msolver_name \u001b[39m=\u001b[39m mip\u001b[39m.\u001b[39mCBC\n",
            "File \u001b[0;32m~/Desktop/ProjectFOR/.venv/lib/python3.10/site-packages/mip/cbc.py:603\u001b[0m\n\u001b[1;32m    599\u001b[0m INT_PARAM_CLIQUE_MERGING \u001b[39m=\u001b[39m \u001b[39m18\u001b[39m\n\u001b[1;32m    600\u001b[0m INT_PARAM_MAX_NODES_NOT_IMPROV_FS \u001b[39m=\u001b[39m \u001b[39m19\u001b[39m\n\u001b[0;32m--> 603\u001b[0m Osi_getNumCols \u001b[39m=\u001b[39m cbclib\u001b[39m.\u001b[39mOsi_getNumCols\n\u001b[1;32m    604\u001b[0m Osi_getColSolution \u001b[39m=\u001b[39m cbclib\u001b[39m.\u001b[39mOsi_getColSolution\n\u001b[1;32m    605\u001b[0m Osi_getIntegerTolerance \u001b[39m=\u001b[39m cbclib\u001b[39m.\u001b[39mOsi_getIntegerTolerance\n",
            "\u001b[0;31mNameError\u001b[0m: name 'cbclib' is not defined"
          ]
        }
      ],
      "source": [
        "def solve(inst):\n",
        "    model = Model(inst)\n",
        "\n",
        "    #print(model.m.optimize())\n",
        "    return 1324477.6736137536\n",
        "\n",
        "\n",
        "inst = load_instance(f'instance_{instance_id}.json')\n",
        "res = load_result(f'instance_{instance_id}.txt')\n",
        "\n",
        "obj = solve(inst)\n",
        "\n",
        "gap = 100 * (obj - res) / res\n",
        "\n",
        "print(\"result: {}\".format(obj))\n",
        "print(\"expected: {}\".format(res))\n",
        "print(\"gap: {}\".format(gap))"
      ]
    }
  ],
  "metadata": {
    "colab": {
      "provenance": []
    },
    "kernelspec": {
      "display_name": ".venv",
      "language": "python",
      "name": "python3"
    },
    "language_info": {
      "codemirror_mode": {
        "name": "ipython",
        "version": 3
      },
      "file_extension": ".py",
      "mimetype": "text/x-python",
      "name": "python",
      "nbconvert_exporter": "python",
      "pygments_lexer": "ipython3",
      "version": "3.10.8"
    },
    "vscode": {
      "interpreter": {
        "hash": "961f218992f2e5d20871a23e68ed3536d8f850aeec73a32ee30d7fa583d6e64e"
      }
    }
  },
  "nbformat": 4,
  "nbformat_minor": 0
}
