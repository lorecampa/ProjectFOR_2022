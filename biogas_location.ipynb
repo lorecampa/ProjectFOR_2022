{
  "cells": [
    {
      "cell_type": "markdown",
      "metadata": {
        "id": "0is6zsDH2sUE"
      },
      "source": [
        "# Big project\n",
        "\n",
        "## Submission\n",
        "\n",
        "Submit solutions to https://forms.office.com/e/WexY7YraJb.\n",
        "\n",
        "1.   Upload code in .ipynb file\n",
        "2.   Upload a csv containing three columns: \n",
        "*    \"ID\": the ID of the instance (1, 2, 3, ...)\n",
        "*    \"OBJ\": the objective function value obtained\n",
        "*    \"TIME\": the execution time in seconds.\n",
        "\n",
        "## Evaluation\n",
        "\n",
        "1.   Gap w.r.t. optimal solutions\n",
        "2.   Runtimes. Must be under 10 minutes for every instance. Execution times will be re-examined on a random basis.\n",
        "\n",
        "## Deadline\n",
        "\n",
        "12/01/2022 23:59 CET\n",
        "\n",
        "## Other\n",
        "\n",
        "*   4 lab points just if you deliver something that works\n",
        "*   10 points based on the quality of method\n",
        "*   NO pre-coded libraries, \n",
        "*   NO genetic algorithms \n",
        "*   NO neural networks\n",
        "*   groups of max 3 students\n",
        "\n",
        "\n"
      ]
    },
    {
      "cell_type": "markdown",
      "metadata": {
        "id": "UdlvHj_vueO5"
      },
      "source": [
        "## Biogas plants location\n",
        "\n",
        "An association of $n$ farmers wants to open $p$ plants to produce energy from biogas. \n",
        "Each plant will be opened at a farm of a member of the association and will be powered with corn chopping purchased from the farm itself or from other neighboring farms.\n",
        "\n",
        "Each farm $i$ can provide at most $c_i$ tons of corn chopping, with a percentage of dry matter $a_i$. As you may know, dry matter is the key component of corn chopping used for biogas production. In order to maintain the quality of produced energy, each plant must burn a mixture of corn chopping with a percentage of dry matter between $k_{min}$ and $k_{max}$. \n",
        "\n",
        "At most one plant can be located in each farm, and every farm can sell its corn chopping to one and only one plant.\n",
        "\n",
        "Each farm $i$ is located at coordinates $x_i$ and $y_i$, representing respectively its latitude and longitude, and the cost of moving corn chopping from a farm $i$ to a farm $j$ is proportional to the euclidean distance between the two farms (it does not depend on the actual quantity moved, since the trucks used for this transportations are sufficiently big). \n",
        "\n",
        "Under such conditions, every plant produces $Q$ kWh of energy per ton of corn chopping burned. The energy produced by each plant will be fed into the national electricity system, at a unitary price of $b$ (€/kWh). Moreover, due to state regulations, each plant must not produce more than $M$ kWh of energy.\n",
        "\n",
        "You must locate $p$ plants among the available farms and assign the farms that will supply each plant, with the goal of maximizing the total revenues of the association."
      ]
    },
    {
      "cell_type": "markdown",
      "metadata": {
        "id": "hnxGk0C12oFZ"
      },
      "source": [
        "### Sets\n",
        "*   $I$ = set of farms\n",
        "\n",
        "### Parameters\n",
        "*   $n$ = number of farms   \n",
        "*   $p$ = number of plants to locate\n",
        "*   $b$ = revenue per unit of energy (€/kWh)\n",
        "*   $M$ = max energy production (kWh)\n",
        "*   $Q$ = energy produced by a ton of corn chopping (kWh/t)\n",
        "*   $k_{min} (k_{max})$ = min (max) percentage of dry matter for fermentation\n",
        "*   $a_i$ = percentage of dry matter in chopping from farm $i \\in I$\n",
        "*   $c_i$ = tons of corn chopping available for each $i \\in I$ (t)\n",
        "*   $x_i, y_i$ = coordinates of farm $i \\in I$"
      ]
    },
    {
      "cell_type": "code",
      "execution_count": null,
      "metadata": {
        "id": "aMa1EaBu3Yw2"
      },
      "outputs": [],
      "source": [
        "eps = 1e-5\n",
        "dataPath = \"./data/\"\n",
        "baseUrl = \"https://raw.githubusercontent.com/Daddeee/FOR_Labs_22-23/master/big-project\";\n",
        "DEBUG = False\n"
      ]
    },
    {
      "attachments": {},
      "cell_type": "markdown",
      "metadata": {
        "id": "K1As0zPK3Yw4"
      },
      "source": [
        "## Import libraries"
      ]
    },
    {
      "cell_type": "code",
      "execution_count": null,
      "metadata": {},
      "outputs": [],
      "source": [
        "# When using Colab, make sure you run this instruction beforehand\n",
        "# !pip install --upgrade cffi==1.15.0\n",
        "# import importlib\n",
        "# import cffi\n",
        "# importlib.reload(cffi)\n",
        "# !pip install mip"
      ]
    },
    {
      "cell_type": "code",
      "execution_count": null,
      "metadata": {
        "id": "jExK8QoJ3Yw4"
      },
      "outputs": [],
      "source": [
        "import numpy as np\n",
        "import pandas as pd\n",
        "import math\n",
        "import mip\n",
        "import json\n",
        "import networkx as nx\n",
        "import matplotlib.pyplot as plt\n",
        "import time\n",
        "import csv"
      ]
    },
    {
      "attachments": {},
      "cell_type": "markdown",
      "metadata": {
        "id": "ETKwZnWu3Yw3"
      },
      "source": [
        "## Download instance"
      ]
    },
    {
      "cell_type": "code",
      "execution_count": null,
      "metadata": {
        "id": "z8gsaiSYIFw4"
      },
      "outputs": [],
      "source": [
        "def downloadInstances(inst_ids):\n",
        "    !rm -rf {dataPath}\n",
        "    for inst_id in inst_ids:\n",
        "        istanceUrl = f'{baseUrl}/instances/instance_{inst_id}.json';\n",
        "        resultUrl = f'{baseUrl}/results/instance_{inst_id}.txt';\n",
        "        !wget -q {istanceUrl} -P {dataPath}\n",
        "        !wget -q {resultUrl} -P {dataPath}"
      ]
    },
    {
      "attachments": {},
      "cell_type": "markdown",
      "metadata": {
        "id": "9zVvni4s3Yw5"
      },
      "source": [
        "## Logger"
      ]
    },
    {
      "cell_type": "code",
      "execution_count": null,
      "metadata": {
        "id": "pQANGImo3Yw6"
      },
      "outputs": [],
      "source": [
        "def log(s):\n",
        "    if DEBUG:\n",
        "        print(s)"
      ]
    },
    {
      "attachments": {},
      "cell_type": "markdown",
      "metadata": {
        "id": "UpwDMxAx3Yw6"
      },
      "source": [
        "## Compute distance"
      ]
    },
    {
      "cell_type": "code",
      "execution_count": null,
      "metadata": {
        "id": "hcUxqv983Yw7"
      },
      "outputs": [],
      "source": [
        "def fast_distance_matrix(x):\n",
        "    xy = x @ x.T\n",
        "    x2 = xy.diagonal()[:,np.newaxis]\n",
        "    return np.abs(x2 + x2.T - 2. * xy)**0.5"
      ]
    },
    {
      "cell_type": "markdown",
      "metadata": {
        "id": "1bRP30G-3Yw7"
      },
      "source": [
        "## Load instances"
      ]
    },
    {
      "cell_type": "code",
      "execution_count": null,
      "metadata": {
        "id": "V6coD0fW3Yw7"
      },
      "outputs": [],
      "source": [
        "# Reads a .json instance and returns it in a dictionary\n",
        "def load_instance(filename):\n",
        "  with open(f'./data/{filename}', 'r') as f:\n",
        "    data = json.load(f)\n",
        "  return data\n",
        "\n",
        "# Reads a .txt result and returns it\n",
        "def load_result(filename):\n",
        "  with open(f'./data/{filename}', 'r') as f:\n",
        "      result = f.read()\n",
        "  return float(result)\n",
        "\n",
        "def load_data(instance_id):\n",
        "  instance_data = load_instance(f'instance_{instance_id}.json')\n",
        "  expected_result = load_result(f'instance_{instance_id}.txt') if instance_id <= 4 else None\n",
        "  return (instance_data, expected_result)\n",
        "  "
      ]
    },
    {
      "attachments": {},
      "cell_type": "markdown",
      "metadata": {
        "id": "XVCdMgY6NVI2"
      },
      "source": [
        "## Model\n",
        "Definition of the class for the Model.\n",
        "\n",
        "When we initialize a new model we add all the parameters needed from the instance data, the different variables and the constraints for the linear solution. \n",
        "\n",
        "### Variables:\n",
        "\n",
        "  * $x_i$: binary variable that is 1 if a plant is located at farm $i$ and 0 otherwise.\n",
        "  * $y_{i,j}$: binary variable that is 1 if farm $j$ supplies corn chopping to farm $i$ and 0 otherwise.\n",
        "  * $z_{i,j}$: variable that represent the number of tons of corn choppings that farm $j$ supplies to farm $i$.\n",
        "\n",
        "### Constraints:\n",
        "\n",
        "  * $p$ plants must be built\n",
        "  \n",
        "  $$\\sum_{i=1}^n x_i = p$$\n",
        "\n",
        "  * Each farm can supply corn choppings to at most one plant\n",
        "  \n",
        "  $$\\sum_{i=1}^n y_{i,j} \\leq 1 \\quad \\forall j$$\n",
        "  \n",
        "  $$\\sum_{j=1}^n y_{i,j} \\leq x_i * n \\quad \\forall i$$\n",
        "\n",
        "  * The percentage of dry matter of the corn chopping burned at each plant must be within the required range\n",
        "\n",
        "  $$k_{min} \\leq \\frac{\\sum_{j=1}^n z_{i,j} \\cdot a_j}{\\sum_{j=1}^n z_{i,j}} \\leq k_{max} \\quad \\forall i$$\n",
        "\n",
        "  * The amount of energy produced at each plant must be lower than the maximum allowed\n",
        "\n",
        "  $$\\sum_{j=1}^n z_{i,j} \\cdot Q \\leq M \\quad \\forall i$$\n",
        "\n",
        "### Objective function\n",
        "\n",
        "We want to maximize the profit of the energy produced by the plants over the cost of acquiring the corn choppings from the farms.\n",
        "$$\\text{maximize} \\sum_{i=1}^n \\sum_{j=1}^n (Q \\cdot b \\cdot z_{i,j} - y_{i,j} \\cdot d_{i,j})$$\n",
        "\n"
      ]
    },
    {
      "cell_type": "code",
      "execution_count": null,
      "metadata": {
        "id": "z3YP76UX3Yw8"
      },
      "outputs": [],
      "source": [
        "class Model:\n",
        "    def __init__(self, instance):\n",
        "        self.M = instance[\"M\"]\n",
        "        self.Q = instance[\"Q\"]\n",
        "        self.a = np.array(instance[\"a\"])\n",
        "        self.b = instance[\"b\"]\n",
        "        self.c = instance[\"c\"]\n",
        "        self.kmax = instance[\"kmax\"]\n",
        "        self.kmin = instance[\"kmin\"]\n",
        "        self.n = instance['n']\n",
        "        self.I = range(self.n)\n",
        "        self.p = instance[\"p\"]\n",
        "        self.points = instance[\"points\"]\n",
        "        self.distances = fast_distance_matrix(np.array(self.points))\n",
        "\n",
        "        self.m = mip.Model();\n",
        "        self.setupVariables()\n",
        "        self.setupConstraint()\n",
        "                \n",
        "        self.m.objective = mip.maximize(mip.xsum([self.z[i][j] * self.Q * self.b - self.y[i][j] * self.distances[i][j] for j in self.I for i in self.I]))\n",
        "    \n",
        "    def setupVariables(self):\n",
        "        self.x = [self.m.add_var(var_type = mip.BINARY) for i in self.I]\n",
        "        self.y = [[self.m.add_var(var_type = mip.BINARY) for j in self.I] for i in self.I]\n",
        "        self.z = [[self.m.add_var(lb = 0) for j in self.I] for i in self.I]\n",
        "\n",
        "    \n",
        "\n",
        "    def isOptimal(self):\n",
        "        return self.m.status == mip.OptimizationStatus.OPTIMAL\n",
        "\n",
        "    def isILP(self):\n",
        "        for i in self.I:\n",
        "            if (self.x[i].x > eps and self.x[i].x < 1 - eps):\n",
        "                return False;\n",
        "            for j in self.I:\n",
        "                if (self.y[i][j].x > eps and self.y[i][j].x < 1 - eps):\n",
        "                    return False;\n",
        "        return True\n",
        "        \n",
        "\n",
        "    def setupConstraint(self):\n",
        "        #build p plants\n",
        "        self.m.add_constr(mip.xsum([self.x[i] for i in self.I]) == self.p)\n",
        "        \n",
        "        #each farm can be assigned to at most one farm\n",
        "        for j in self.I:\n",
        "            self.m.add_constr(mip.xsum([self.y[i][j] for i in self.I]) <= 1)\n",
        "\n",
        "\n",
        "        for i in self.I:\n",
        "            self.m.add_constr(mip.xsum([self.y[i][j] for j in self.I]) <= self.x[i] * self.n)\n",
        "\n",
        "        #each farm can at most give c_i corn choppings, linking constraint\n",
        "        for i in self.I:\n",
        "            for j in self.I:\n",
        "                self.m.add_constr(self.z[i][j] <= self.c[j] * self.y[i][j])\n",
        "\n",
        "        # dry mattern percentage\n",
        "        for i in self.I:\n",
        "            chorn_choppings_aquired = mip.xsum([self.z[i][j] for j in self.I])\n",
        "            self.m.add_constr(mip.xsum([self.z[i][j] * self.a[j] for j in self.I]) <= self.kmax * chorn_choppings_aquired)\n",
        "            self.m.add_constr(mip.xsum([self.z[i][j] * self.a[j] for j in self.I]) >= self.kmin * chorn_choppings_aquired)\n",
        "\n",
        "        \n",
        "        # state regulations\n",
        "        for i in self.I:\n",
        "            self.m.add_constr(mip.xsum([self.z[i][j] for j in self.I]) * self.Q <= self.M)"
      ]
    },
    {
      "cell_type": "markdown",
      "metadata": {
        "id": "sFfBhFm73Yw8"
      },
      "source": [
        "## Print result"
      ]
    },
    {
      "cell_type": "code",
      "execution_count": null,
      "metadata": {
        "id": "NYH5Veeh3Yw9"
      },
      "outputs": [],
      "source": [
        "def printVariableMatrix(var, label):\n",
        "  log(f\"\\n{label}\")\n",
        "  for i in range(len(var)):\n",
        "    log([f\"{var[i][j].x:.5f}\" for j in range(len(var[i]))])\n",
        "\n",
        "\n",
        "def printVariableArray(var, label):\n",
        "    log(f\"\\n{label}\")\n",
        "    log([f\"{var[i].x:.5f}\" for i in range(len(var))])\n",
        "\n",
        "\n",
        "def printVarMatrixValue(var, i, j):\n",
        "  log(f\"{var[i][j].x:.5f}\")\n",
        "\n",
        "\n",
        "def printVariables(model, x = True, y = True, z = True):\n",
        "  if x:\n",
        "    printVariableArray(model.x, \"X\")\n",
        "  if y:\n",
        "    printVariableMatrix(model.y, \"Y\")\n",
        "  if z:\n",
        "    printVariableMatrix(model.y, \"Z\")\n",
        "  "
      ]
    },
    {
      "cell_type": "code",
      "execution_count": null,
      "metadata": {
        "id": "JWfgAXiU3Yw9"
      },
      "outputs": [],
      "source": [
        "def compute_gap(obj_value, expected_result, relaxed_obj_value):\n",
        "    result  = expected_result if expected_result != None else relaxed_obj_value\n",
        "    gap = 100 * (obj_value - result) / result\n",
        "    return (gap, expected_result == None)\n",
        "\n",
        "\n",
        "def print_model_gap(model:Model, expected_result, relaxed_obj_value):\n",
        "    log(f\"Status: {model.m.status}\")\n",
        "\n",
        "    obj_value = model.m.objective_value;\n",
        "    (gap, isApproximate) = compute_gap(obj_value, expected_result, relaxed_obj_value)\n",
        "\n",
        "    if isApproximate:\n",
        "        log(f\"Obj Value = {obj_value:.5f}, Expected Result = {relaxed_obj_value:.5f} Gap ~ {gap:.5f} %\")\n",
        "    else:\n",
        "        log(f\"Obj Value = {obj_value:.5f}, Expected Result = {expected_result:.5f} Gap = {gap:.5f} %\")\n",
        "\n",
        "def print_model(model:Model, expected_result, relaxed_obj_value, figsize=(14, 14), font_size=8, textual = False, weight = False):\n",
        "    m = model.m\n",
        "    x = model.x\n",
        "    y = model.y\n",
        "    z = model.z\n",
        "    I = model.I\n",
        "    c = model.c\n",
        "    \n",
        "    print_model_gap(model, expected_result, relaxed_obj_value)\n",
        "\n",
        "    if (textual):\n",
        "        log(\"\\n-----Farms-----\")\n",
        "        for i in I:\n",
        "            if x[i].x > eps:\n",
        "                log(f\"[--- x_{i} = {x[i].x:.3f} ---]\")\n",
        "                for j in I:\n",
        "                    if y[i][j].x > eps:\n",
        "                        gain = model.Q * model.b * model.z[i][j].x - model.y[i][j].x * model.distances[i][j];\n",
        "                        log(f\"{j} -(y = {y[i][j].x:.5f} z = {z[i][j].x:.5f} gain = {gain:.5f})-> {i};\")\n",
        "\n",
        "    #Visualize solution on graph\n",
        "    pos_c = {i: (model.points[i][0], model.points[i][1]) for i in I}\n",
        "    nodepos = {**pos_c}\n",
        "    \n",
        "    g = nx.DiGraph(directed = True)\n",
        "    g.add_nodes_from([i for i in I])\n",
        "\n",
        "    if (weight):\n",
        "        w_edges = [(j, i, f'y = {model.y[i][j].x:.5f}') for j in I for i in I if y[i][j].x > eps] \n",
        "        g.add_weighted_edges_from(w_edges)\n",
        "    else:\n",
        "        edges = [(j, i) for j in I for i in I if y[i][j].x > eps] \n",
        "        g.add_edges_from(edges)\n",
        "\n",
        "    color = ['yellow' if  abs(model.x[i].x - 1) <= eps else ('cyan' if model.x[i].x < eps else 'orange') for i in I]\n",
        "    plt.figure(1, figsize=figsize)\n",
        "    labels = nx.get_edge_attributes(g,'weight')\n",
        "    nx.draw_networkx(g, font_size=font_size, pos=nodepos, node_color=color)\n",
        "    nx.draw_networkx_edge_labels(g,pos=nodepos,edge_labels=labels)\n",
        "    plt.show()    "
      ]
    },
    {
      "attachments": {},
      "cell_type": "markdown",
      "metadata": {
        "id": "8HqmyvaWWGWB"
      },
      "source": [
        "## Rounding Algorithm\n",
        "To solve this problem in a reasonable amount of time in all the different instances we decided to relax the integrality constraints on the variables $x$ and $y$ and to use a greedy cutting plane algorithm.\n",
        "\n",
        "To find an integer solution, the algorithm goes through a series of iterations. In each iteration, it follows these steps:\n",
        "  * First it optimizes the model.\n",
        "  * Then it takes all the pairs plant-farm ($i$,$j$) with non integer values of $y_{ij}$ or $x_i$ and ranks them taking in consideration their distance, the amount of corn choppings that can be sent to one another (accounting for both capacity of the plant and the dry matter percentage) and the centrality of the plant w.r.t. the farms not yet assigned.\n",
        "  * Finally it takes the best ($i$,$j$) pair and adds the constraint $$y_{ij} + x_{i} = 2$$ this way setting both values to 1.\n",
        "\n",
        "This algorithm manages to reach a good solution (gap <1% in the instances 2 to 5) in a very small amount of time.\n"
      ]
    },
    {
      "cell_type": "code",
      "execution_count": null,
      "metadata": {
        "id": "d0ArlitB3Yw-"
      },
      "outputs": [],
      "source": [
        "def computeMaxDryMatter(model: Model, sum_z, sum_z_w, j):\n",
        "    if (sum_z > eps):\n",
        "        max_z = max(0, (model.kmax * sum_z - sum_z_w) / (model.a[j] - model.kmax))\n",
        "        return max_z\n",
        "\n",
        "    if (model.a[j] <= model.kmax and model.a[j] >= model.kmin):\n",
        "        return model.c[j]\n",
        "    \n",
        "    return 0\n",
        "\n",
        "def isBetweenZeroAndOne(num):\n",
        "    return num > eps and num < 1 - eps;\n",
        "\n",
        "def computeStats(model:Model):\n",
        "    real_obj_value = 0\n",
        "    availability = [True for i in model.I]\n",
        "    capacities = [model.M / model.Q for i in model.I]\n",
        "    degrees = [0 for i in model.I]\n",
        "    dry_matters = [(0, 0) for i in model.I]\n",
        "\n",
        "    x_filled = 0\n",
        "    for i in [k for k in model.I if model.x[k].x > eps]:\n",
        "        if (model.x[i].x > 1 - eps):\n",
        "            x_filled += 1\n",
        "        for j in [k for k in model.I if model.y[i][k].x > 1 - eps]:\n",
        "            if (model.x[i].x > 1 - eps):\n",
        "                availability[j] = False\n",
        "            capacities[i] -= model.z[i][j].x\n",
        "            (sum_z, sum_z_w) = dry_matters[i]\n",
        "            sum_z += model.z[i][j].x\n",
        "            sum_z_w += model.z[i][j].x * model.a[j]\n",
        "            dry_matters[i] = (sum_z, sum_z_w)\n",
        "            degrees[i] += 1\n",
        "\n",
        "\n",
        "    return availability, capacities, degrees, dry_matters, x_filled\n",
        "\n",
        "\n",
        "def compute_centrality(model:Model, availability, i):\n",
        "    centrality = 0\n",
        "    neighbours = [k for k in model.I if availability[k] and k != i]\n",
        "    for neighbour in neighbours:\n",
        "        centrality += 100 * model.a[neighbour] - model.distances[i][neighbour]\n",
        "    return centrality\n",
        "\n",
        "def find_best_pair(model:Model):\n",
        "    availability, capacities, degrees, dry_matters, x_filled = computeStats(model)\n",
        "    \n",
        "    max_pair = None\n",
        "    max_rank = -math.inf\n",
        "\n",
        "    for i in model.I:\n",
        "        (sum_z, sum_z_w) = dry_matters[i]\n",
        "        max_z_capacity = capacities[i]\n",
        "        centraility = compute_centrality(model, availability, i)\n",
        "        #set with the j such that the pairs (i, j) have some integrality problems\n",
        "        S = [k for k in model.I if (isBetweenZeroAndOne(model.y[i][k].x) or (isBetweenZeroAndOne(model.x[i].x) and model.y[i][k].x > 1 - eps))]\n",
        "        for j in S:\n",
        "            max_z_dry_matter = computeMaxDryMatter(model, sum_z, sum_z_w, j)\n",
        "            max_z = max(0, min(max_z_capacity, model.c[j]))\n",
        "            #makes sense to limit z only if the degree of i is greater than one\n",
        "            if (degrees[i] >= 1):\n",
        "                max_z = min(max_z, max_z_dry_matter)\n",
        "                \n",
        "            rank = (max_z * model.Q * model.b  - model.distances[i][j]) + centraility\n",
        "            #log(f'[{i,j}]: [max_z: {max_z}], [rank {rank}], [model.distances[i][j] {model.distances[i][j]}], centrality: {centraility}], ')\n",
        "            if (rank > max_rank):\n",
        "                max_rank = rank\n",
        "                max_pair = (i, j)\n",
        "        \n",
        "    return max_pair\n"
      ]
    },
    {
      "cell_type": "code",
      "execution_count": null,
      "metadata": {
        "id": "T0kijF-23Yw-"
      },
      "outputs": [],
      "source": [
        "def solve(data):\n",
        "    start_time = time.time()\n",
        "    (inst, expected_result) = data;\n",
        "    model = Model(inst)\n",
        "    model.m.verbose = 0;\n",
        "    model.m.optimize(relax=True)\n",
        "    relaxed_obj_value = model.m.objective_value\n",
        "    print_model(model, expected_result, relaxed_obj_value, weight=True)\n",
        "    newConstraints = True;\n",
        "    iteration = 0;\n",
        "    \n",
        "    while newConstraints and model.isOptimal():\n",
        "        log('----------------------------------------------------------------------------------------------------')\n",
        "        log(f'[Iteration: {iteration}]')\n",
        "        iteration += 1\n",
        "        newConstraints = False\n",
        "        start_computing = time.time()\n",
        "        pair = find_best_pair(model)\n",
        "\n",
        "        if (pair != None):\n",
        "            log(f'Pair: {pair}')\n",
        "            i, j = pair\n",
        "            relaxed_val = 2\n",
        "            model.m.add_constr(model.y[i][j] + model.x[i] == relaxed_val);\n",
        "            log(f'Relaxed y[{i}][{j}] + x[{i}] = {relaxed_val}')\n",
        "            newConstraints = True;\n",
        "        \n",
        "\n",
        "        start_optimization = time.time()\n",
        "        if (newConstraints):\n",
        "            model.m.optimize(relax=True);\n",
        "        \n",
        "        # print_model(model, expected_result, relaxed_obj_value, weight=True)\n",
        "        curr_time = time.time()\n",
        "        log(f'[Computing: {start_optimization - start_computing:.3f} s Optimization: {curr_time - start_optimization:.3f} s]')\n",
        "        log('----------------------------------------------------------------------------------------------------')\n",
        "    finish_time = time.time() - start_time\n",
        "    log(f'Finish Cutting Plane algorithm after {(finish_time):.3f} s')\n",
        "    return model, relaxed_obj_value, finish_time"
      ]
    },
    {
      "cell_type": "markdown",
      "metadata": {
        "id": "Ms8yLn373Yw_"
      },
      "source": [
        "## Execute Multiple Instances"
      ]
    },
    {
      "cell_type": "markdown",
      "metadata": {
        "id": "p1SAOSRQntAS"
      },
      "source": [
        "Function to run all the instances one after the other and write the results in the csv file."
      ]
    },
    {
      "cell_type": "code",
      "execution_count": null,
      "metadata": {
        "id": "ho6kBp9f3Yw_"
      },
      "outputs": [],
      "source": [
        "def executeMultipleInstances(inst_ids):\n",
        "    downloadInstances(inst_ids)\n",
        "    \n",
        "    headers = ['ID', 'OBJ', 'TIME']\n",
        "    results = {header: [] for header in headers}\n",
        "\n",
        "    for inst_id in sorted(inst_ids):\n",
        "        results['ID'].append(inst_id)\n",
        "\n",
        "        (instance, expected_result) = load_data(inst_id)\n",
        "        model, relaxed_obj_value, finish_time = solve((instance, expected_result))\n",
        "        \n",
        "        obj_value = model.m.objective_value;\n",
        "        results['OBJ'].append(f'{obj_value:.5f}')\n",
        "\n",
        "        results['TIME'].append(f'{finish_time:.2f}')\n",
        "\n",
        "        log(f'Instance {inst_id}')\n",
        "        print_model(model, expected_result, relaxed_obj_value)\n",
        "\n",
        "    csv_file_results = open('results.csv', 'w')\n",
        "    df = pd.DataFrame(results)\n",
        "    csv_file_results.write(df.to_csv(header=headers, index=False))\n",
        "    csv_file_results.close()\n",
        "\n"
      ]
    },
    {
      "cell_type": "markdown",
      "metadata": {
        "id": "UBJjxC0r3Yw_"
      },
      "source": [
        "## Main"
      ]
    },
    {
      "cell_type": "code",
      "execution_count": null,
      "metadata": {
        "colab": {
          "base_uri": "https://localhost:8080/",
          "height": 1000
        },
        "id": "B2Kb9ZiA3Yw_",
        "outputId": "c126f6f8-f108-4e08-fd6d-c0c8d254ce84"
      },
      "outputs": [],
      "source": [
        "l = 1\n",
        "u = 10\n",
        "ids = [i for i in range(l, u + 1)]\n",
        "executeMultipleInstances(ids)"
      ]
    }
  ],
  "metadata": {
    "colab": {
      "provenance": []
    },
    "kernelspec": {
      "display_name": ".venv",
      "language": "python",
      "name": "python3"
    },
    "language_info": {
      "codemirror_mode": {
        "name": "ipython",
        "version": 3
      },
      "file_extension": ".py",
      "mimetype": "text/x-python",
      "name": "python",
      "nbconvert_exporter": "python",
      "pygments_lexer": "ipython3",
      "version": "3.10.9 (main, Dec 15 2022, 17:11:09) [Clang 14.0.0 (clang-1400.0.29.202)]"
    },
    "vscode": {
      "interpreter": {
        "hash": "961f218992f2e5d20871a23e68ed3536d8f850aeec73a32ee30d7fa583d6e64e"
      }
    }
  },
  "nbformat": 4,
  "nbformat_minor": 0
}
